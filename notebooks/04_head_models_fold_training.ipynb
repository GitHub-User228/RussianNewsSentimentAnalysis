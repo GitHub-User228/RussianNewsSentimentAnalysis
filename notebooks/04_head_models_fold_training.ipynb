{
 "cells": [
  {
   "cell_type": "code",
   "execution_count": 1,
   "id": "4cc73f00-5480-400d-b4ce-8c3e3740d894",
   "metadata": {},
   "outputs": [],
   "source": [
    "import os\n",
    "import warnings\n",
    "\n",
    "warnings.filterwarnings(\"ignore\")"
   ]
  },
  {
   "cell_type": "code",
   "execution_count": 2,
   "id": "648459b1-a144-447d-89a0-947b2d76ba4d",
   "metadata": {},
   "outputs": [
    {
     "data": {
      "text/plain": [
       "'/home/ubuntu/BigDataProject'"
      ]
     },
     "execution_count": 2,
     "metadata": {},
     "output_type": "execute_result"
    }
   ],
   "source": [
    "os.chdir(\"../\")\n",
    "%pwd"
   ]
  },
  {
   "cell_type": "code",
   "execution_count": 3,
   "id": "c4804ce0-97a5-4fe7-8c79-9c924fca67c0",
   "metadata": {},
   "outputs": [
    {
     "name": "stdout",
     "output_type": "stream",
     "text": [
      "[2024-01-05 17:58:37,986: 47: logger: INFO: common:  yaml file: src/config/config.yaml loaded successfully]\n",
      "[2024-01-05 17:58:37,991: 47: logger: INFO: common:  yaml file: src/params.yaml loaded successfully]\n",
      "[2024-01-05 17:58:37,993: 47: logger: INFO: common:  yaml file: src/schema.yaml loaded successfully]\n"
     ]
    },
    {
     "data": {
      "text/plain": [
       "HeadModelFoldTrainingConfig(embedding_file_size=51200, validation_embedding_id=1, min_train_embedding_id=2, max_train_embedding_id=85, training_configs=ConfigBox({'n_epochs': 3, 'batch_size': 1024, 'loss_function': 'CrossEntropyLoss', 'optimizer': 'Adam', 'learning_rate': 1e-05, 'random_state': 42, 'scheduler': None, 'scheduler_params': None, 'use_callback': True, 'overwrite_existing_callback': True, 'checkpoint_each_epoch': True, 'metrics_names': ['accuracy', 'balanced_accuracy', 'precision', 'recall', 'f1']}), folds_ids_range=BoxList([[2, 22], [23, 43], [44, 64], [65, 85]]))"
      ]
     },
     "execution_count": 3,
     "metadata": {},
     "output_type": "execute_result"
    }
   ],
   "source": [
    "from src.config.configuration import ConfigurationManager\n",
    "from src.components.head_model_fold_training import HeadModelFoldTraining\n",
    "\n",
    "config_manager = ConfigurationManager()\n",
    "head_model_fold_training_config = config_manager.get_head_model_fold_training_config()\n",
    "\n",
    "head_model_fold_training_config"
   ]
  },
  {
   "cell_type": "markdown",
   "id": "bffd7957-3178-49af-ae53-d52769d84174",
   "metadata": {},
   "source": [
    "# BiRNN"
   ]
  },
  {
   "cell_type": "code",
   "execution_count": 4,
   "id": "8c1faf5e-dddb-4f9e-be6b-6c70d2197ba3",
   "metadata": {},
   "outputs": [
    {
     "name": "stdout",
     "output_type": "stream",
     "text": [
      "[2024-01-05 15:11:08,392: 47: logger: INFO: common:  yaml file: src/params/head_model_MHSA_STCNN_BiRNN.yaml loaded successfully]\n",
      "[2024-01-05 15:11:08,394: 457: logger: INFO: head_model_fold_training:  === STARTING TRAINING STAGE for fold 0 and model MHSA_STCNN_BiRNN ===]\n",
      "[2024-01-05 15:11:08,430: 171: logger: INFO: common:  tensor file has been loaded from: data/target]\n",
      "[2024-01-05 15:11:08,431: 461: logger: INFO: head_model_fold_training:  Part1. Target data has been loaded]\n",
      "[2024-01-05 15:11:09,345: 473: logger: INFO: head_model_fold_training:  Part2. Head model has been initialized]\n",
      "[2024-01-05 15:11:09,682: 272: logger: INFO: head_model_fold_training:  WARNING: Using number of epochs specified in arguments instead of one in configs.]\n"
     ]
    },
    {
     "data": {
      "application/vnd.jupyter.widget-view+json": {
       "model_id": "6800e1e6533343e1a51cced8a66c93f7",
       "version_major": 2,
       "version_minor": 0
      },
      "text/plain": [
       "epochs:   0%|          | 0/3 [00:00<?, ?it/s]"
      ]
     },
     "metadata": {},
     "output_type": "display_data"
    },
    {
     "data": {
      "application/vnd.jupyter.widget-view+json": {
       "model_id": "e9268dbcb2fc42dab6ec9be5a6f347cf",
       "version_major": 2,
       "version_minor": 0
      },
      "text/plain": [
       "embeddings:   0%|          | 0/63 [00:00<?, ?it/s]"
      ]
     },
     "metadata": {},
     "output_type": "display_data"
    },
    {
     "data": {
      "application/vnd.jupyter.widget-view+json": {
       "model_id": "24f08981d61646e79974d256d5c537e6",
       "version_major": 2,
       "version_minor": 0
      },
      "text/plain": [
       "embeddings:   0%|          | 0/63 [00:00<?, ?it/s]"
      ]
     },
     "metadata": {},
     "output_type": "display_data"
    },
    {
     "data": {
      "application/vnd.jupyter.widget-view+json": {
       "model_id": "089e980b487c4502b6bc8a6fd5a9e571",
       "version_major": 2,
       "version_minor": 0
      },
      "text/plain": [
       "embeddings:   0%|          | 0/63 [00:00<?, ?it/s]"
      ]
     },
     "metadata": {},
     "output_type": "display_data"
    },
    {
     "name": "stdout",
     "output_type": "stream",
     "text": [
      "[2024-01-05 16:01:49,325: 477: logger: INFO: head_model_fold_training:  Part3. Training has been completed]\n"
     ]
    },
    {
     "data": {
      "application/vnd.jupyter.widget-view+json": {
       "model_id": "249fb86e74164b5db5a9493ea94062df",
       "version_major": 2,
       "version_minor": 0
      },
      "text/plain": [
       "val_embeddings:   0%|          | 0/21 [00:00<?, ?it/s]"
      ]
     },
     "metadata": {},
     "output_type": "display_data"
    },
    {
     "name": "stdout",
     "output_type": "stream",
     "text": [
      "[2024-01-05 16:04:50,905: 488: logger: INFO: head_model_fold_training:  Part4. Logits have been calculated]\n",
      "[2024-01-05 16:04:50,911: 146: logger: INFO: common:  tensor file saved at: data/logits]\n",
      "{'accuracy': 0.8858891369047619, 'balanced_accuracy': 0.855571779812719, 'precision_pos': 0.8860693376868977, 'precision_neg': 0.8854507549031189, 'recall_pos': 0.9495406070203517, 'recall_neg': 0.7616029526050864, 'f1_pos': 0.9167076253811876, 'f1_neg': 0.8188705762859995}\n",
      "[2024-01-05 16:04:53,074: 92: logger: INFO: common:  json file saved at: logs/MHSA_STCNN_BiRNN_0.json]\n",
      "[2024-01-05 16:04:53,081: 495: logger: INFO: head_model_fold_training:  Part5. Evaluation has been completed]\n",
      "[2024-01-05 16:04:53,082: 497: logger: INFO: head_model_fold_training:  === FINISHED TRAINING STAGE for fold 0 and model MHSA_STCNN_BiRNN ===]\n",
      "CPU times: user 44min 6s, sys: 6min 5s, total: 50min 12s\n",
      "Wall time: 53min 44s\n"
     ]
    }
   ],
   "source": [
    "%%time\n",
    "component = HeadModelFoldTraining(head_model_fold_training_config, config_manager.config.path, \n",
    "                                  'head_model_MHSA_STCNN_BiRNN', use_default_training_configs=True)\n",
    "component.run_stage(fold=0, n_epochs=3)"
   ]
  },
  {
   "cell_type": "code",
   "execution_count": 4,
   "id": "a44a6bf3-67bd-43ff-bc4b-364aa2ed5b60",
   "metadata": {},
   "outputs": [
    {
     "name": "stdout",
     "output_type": "stream",
     "text": [
      "[2024-01-05 16:06:18,229: 47: logger: INFO: common:  yaml file: src/params/head_model_MHSA_STCNN_BiRNN.yaml loaded successfully]\n",
      "[2024-01-05 16:06:18,231: 457: logger: INFO: head_model_fold_training:  === STARTING TRAINING STAGE for fold 1 and model MHSA_STCNN_BiRNN ===]\n",
      "[2024-01-05 16:06:18,268: 171: logger: INFO: common:  tensor file has been loaded from: data/target]\n",
      "[2024-01-05 16:06:18,269: 461: logger: INFO: head_model_fold_training:  Part1. Target data has been loaded]\n",
      "[2024-01-05 16:06:19,261: 473: logger: INFO: head_model_fold_training:  Part2. Head model has been initialized]\n",
      "[2024-01-05 16:06:19,584: 272: logger: INFO: head_model_fold_training:  WARNING: Using number of epochs specified in arguments instead of one in configs.]\n"
     ]
    },
    {
     "data": {
      "application/vnd.jupyter.widget-view+json": {
       "model_id": "79d728dd08274f07a9c5c9aba43fb044",
       "version_major": 2,
       "version_minor": 0
      },
      "text/plain": [
       "epochs:   0%|          | 0/3 [00:00<?, ?it/s]"
      ]
     },
     "metadata": {},
     "output_type": "display_data"
    },
    {
     "data": {
      "application/vnd.jupyter.widget-view+json": {
       "model_id": "f697e8d7a0aa414082cfbe9a397e132b",
       "version_major": 2,
       "version_minor": 0
      },
      "text/plain": [
       "embeddings:   0%|          | 0/63 [00:00<?, ?it/s]"
      ]
     },
     "metadata": {},
     "output_type": "display_data"
    },
    {
     "data": {
      "application/vnd.jupyter.widget-view+json": {
       "model_id": "f5a1d3bb876b44b5b27edd82ad09db70",
       "version_major": 2,
       "version_minor": 0
      },
      "text/plain": [
       "embeddings:   0%|          | 0/63 [00:00<?, ?it/s]"
      ]
     },
     "metadata": {},
     "output_type": "display_data"
    },
    {
     "data": {
      "application/vnd.jupyter.widget-view+json": {
       "model_id": "659b2909052240eb94066924208c61b4",
       "version_major": 2,
       "version_minor": 0
      },
      "text/plain": [
       "embeddings:   0%|          | 0/63 [00:00<?, ?it/s]"
      ]
     },
     "metadata": {},
     "output_type": "display_data"
    },
    {
     "name": "stdout",
     "output_type": "stream",
     "text": [
      "[2024-01-05 16:56:29,869: 477: logger: INFO: head_model_fold_training:  Part3. Training has been completed]\n"
     ]
    },
    {
     "data": {
      "application/vnd.jupyter.widget-view+json": {
       "model_id": "307d7ad4d1fa47a5900a6fe9c684ce7b",
       "version_major": 2,
       "version_minor": 0
      },
      "text/plain": [
       "val_embeddings:   0%|          | 0/21 [00:00<?, ?it/s]"
      ]
     },
     "metadata": {},
     "output_type": "display_data"
    },
    {
     "name": "stdout",
     "output_type": "stream",
     "text": [
      "[2024-01-05 16:59:37,095: 488: logger: INFO: head_model_fold_training:  Part4. Logits have been calculated]\n",
      "[2024-01-05 16:59:37,105: 146: logger: INFO: common:  tensor file saved at: data/logits]\n",
      "{'accuracy': 0.8854501488095238, 'balanced_accuracy': 0.8596310803501306, 'precision_pos': 0.9160694146799697, 'precision_neg': 0.8101657949084171, 'recall_pos': 0.922269084663249, 'recall_neg': 0.7969930760370122, 'f1_pos': 0.9191587956915847, 'f1_neg': 0.8035254518480707}\n",
      "[2024-01-05 16:59:39,331: 92: logger: INFO: common:  json file saved at: logs/MHSA_STCNN_BiRNN_1.json]\n",
      "[2024-01-05 16:59:39,339: 495: logger: INFO: head_model_fold_training:  Part5. Evaluation has been completed]\n",
      "[2024-01-05 16:59:39,341: 497: logger: INFO: head_model_fold_training:  === FINISHED TRAINING STAGE for fold 1 and model MHSA_STCNN_BiRNN ===]\n",
      "CPU times: user 44min 8s, sys: 6min 17s, total: 50min 26s\n",
      "Wall time: 53min 21s\n"
     ]
    }
   ],
   "source": [
    "%%time\n",
    "component = HeadModelFoldTraining(head_model_fold_training_config, config_manager.config.path, \n",
    "                                  'head_model_MHSA_STCNN_BiRNN', use_default_training_configs=True)\n",
    "component.run_stage(fold=1, n_epochs=3)"
   ]
  },
  {
   "cell_type": "code",
   "execution_count": 4,
   "id": "95cdd320-f818-435b-aa12-449ce3b0df93",
   "metadata": {},
   "outputs": [
    {
     "name": "stdout",
     "output_type": "stream",
     "text": [
      "[2024-01-05 17:02:53,973: 47: logger: INFO: common:  yaml file: src/params/head_model_MHSA_STCNN_BiRNN.yaml loaded successfully]\n",
      "[2024-01-05 17:02:53,975: 457: logger: INFO: head_model_fold_training:  === STARTING TRAINING STAGE for fold 2 and model MHSA_STCNN_BiRNN ===]\n",
      "[2024-01-05 17:02:54,038: 171: logger: INFO: common:  tensor file has been loaded from: data/target]\n",
      "[2024-01-05 17:02:54,039: 461: logger: INFO: head_model_fold_training:  Part1. Target data has been loaded]\n",
      "[2024-01-05 17:02:54,898: 473: logger: INFO: head_model_fold_training:  Part2. Head model has been initialized]\n",
      "[2024-01-05 17:02:55,230: 272: logger: INFO: head_model_fold_training:  WARNING: Using number of epochs specified in arguments instead of one in configs.]\n"
     ]
    },
    {
     "data": {
      "application/vnd.jupyter.widget-view+json": {
       "model_id": "3d94a93ce45243e3b822fc008ba7cf49",
       "version_major": 2,
       "version_minor": 0
      },
      "text/plain": [
       "epochs:   0%|          | 0/3 [00:00<?, ?it/s]"
      ]
     },
     "metadata": {},
     "output_type": "display_data"
    },
    {
     "data": {
      "application/vnd.jupyter.widget-view+json": {
       "model_id": "7025ee44fa20442a9e19bb271f0e1ff2",
       "version_major": 2,
       "version_minor": 0
      },
      "text/plain": [
       "embeddings:   0%|          | 0/63 [00:00<?, ?it/s]"
      ]
     },
     "metadata": {},
     "output_type": "display_data"
    },
    {
     "data": {
      "application/vnd.jupyter.widget-view+json": {
       "model_id": "9af532f210f240478861ea7ac2b84e71",
       "version_major": 2,
       "version_minor": 0
      },
      "text/plain": [
       "embeddings:   0%|          | 0/63 [00:00<?, ?it/s]"
      ]
     },
     "metadata": {},
     "output_type": "display_data"
    },
    {
     "data": {
      "application/vnd.jupyter.widget-view+json": {
       "model_id": "96219af25e7546f5a8436a1688dd7a16",
       "version_major": 2,
       "version_minor": 0
      },
      "text/plain": [
       "embeddings:   0%|          | 0/63 [00:00<?, ?it/s]"
      ]
     },
     "metadata": {},
     "output_type": "display_data"
    },
    {
     "name": "stdout",
     "output_type": "stream",
     "text": [
      "[2024-01-05 17:54:41,424: 477: logger: INFO: head_model_fold_training:  Part3. Training has been completed]\n"
     ]
    },
    {
     "data": {
      "application/vnd.jupyter.widget-view+json": {
       "model_id": "2bc39a20107d46138d8e016762dd4f3e",
       "version_major": 2,
       "version_minor": 0
      },
      "text/plain": [
       "val_embeddings:   0%|          | 0/21 [00:00<?, ?it/s]"
      ]
     },
     "metadata": {},
     "output_type": "display_data"
    },
    {
     "name": "stdout",
     "output_type": "stream",
     "text": [
      "[2024-01-05 17:57:40,550: 488: logger: INFO: head_model_fold_training:  Part4. Logits have been calculated]\n",
      "[2024-01-05 17:57:40,567: 146: logger: INFO: common:  tensor file saved at: data/logits]\n",
      "{'accuracy': 0.892543712797619, 'balanced_accuracy': 0.8661593293983164, 'precision_pos': 0.9168280295473363, 'precision_neg': 0.8321348059488477, 'recall_pos': 0.9314426816731843, 'recall_neg': 0.8008759771234485, 'f1_pos': 0.9240775750980598, 'f1_neg': 0.8162062158082031}\n",
      "[2024-01-05 17:57:42,885: 92: logger: INFO: common:  json file saved at: logs/MHSA_STCNN_BiRNN_2.json]\n",
      "[2024-01-05 17:57:42,893: 495: logger: INFO: head_model_fold_training:  Part5. Evaluation has been completed]\n",
      "[2024-01-05 17:57:42,894: 497: logger: INFO: head_model_fold_training:  === FINISHED TRAINING STAGE for fold 2 and model MHSA_STCNN_BiRNN ===]\n",
      "CPU times: user 44min 7s, sys: 6min 20s, total: 50min 27s\n",
      "Wall time: 54min 48s\n"
     ]
    }
   ],
   "source": [
    "%%time\n",
    "component = HeadModelFoldTraining(head_model_fold_training_config, config_manager.config.path, \n",
    "                                  'head_model_MHSA_STCNN_BiRNN', use_default_training_configs=True)\n",
    "component.run_stage(fold=2, n_epochs=3)"
   ]
  },
  {
   "cell_type": "code",
   "execution_count": 4,
   "id": "4bbc38ed-0336-4830-92a3-11b5458c9161",
   "metadata": {},
   "outputs": [
    {
     "name": "stdout",
     "output_type": "stream",
     "text": [
      "[2024-01-05 17:58:38,175: 47: logger: INFO: common:  yaml file: src/params/head_model_MHSA_STCNN_BiRNN.yaml loaded successfully]\n",
      "[2024-01-05 17:58:38,177: 457: logger: INFO: head_model_fold_training:  === STARTING TRAINING STAGE for fold 3 and model MHSA_STCNN_BiRNN ===]\n",
      "[2024-01-05 17:58:38,216: 171: logger: INFO: common:  tensor file has been loaded from: data/target]\n",
      "[2024-01-05 17:58:38,217: 461: logger: INFO: head_model_fold_training:  Part1. Target data has been loaded]\n",
      "[2024-01-05 17:58:38,924: 473: logger: INFO: head_model_fold_training:  Part2. Head model has been initialized]\n",
      "[2024-01-05 17:58:39,243: 272: logger: INFO: head_model_fold_training:  WARNING: Using number of epochs specified in arguments instead of one in configs.]\n"
     ]
    },
    {
     "data": {
      "application/vnd.jupyter.widget-view+json": {
       "model_id": "d4e3870b750c41c3a9299ad2021df19f",
       "version_major": 2,
       "version_minor": 0
      },
      "text/plain": [
       "epochs:   0%|          | 0/3 [00:00<?, ?it/s]"
      ]
     },
     "metadata": {},
     "output_type": "display_data"
    },
    {
     "data": {
      "application/vnd.jupyter.widget-view+json": {
       "model_id": "86f0be5d60f046af8cf71b50184d2d6b",
       "version_major": 2,
       "version_minor": 0
      },
      "text/plain": [
       "embeddings:   0%|          | 0/63 [00:00<?, ?it/s]"
      ]
     },
     "metadata": {},
     "output_type": "display_data"
    },
    {
     "data": {
      "application/vnd.jupyter.widget-view+json": {
       "model_id": "3f1f8022ca364f8a89e1f1a263694fed",
       "version_major": 2,
       "version_minor": 0
      },
      "text/plain": [
       "embeddings:   0%|          | 0/63 [00:00<?, ?it/s]"
      ]
     },
     "metadata": {},
     "output_type": "display_data"
    },
    {
     "data": {
      "application/vnd.jupyter.widget-view+json": {
       "model_id": "ae7c75b6e6864e7bad2de5c76db23e32",
       "version_major": 2,
       "version_minor": 0
      },
      "text/plain": [
       "embeddings:   0%|          | 0/63 [00:00<?, ?it/s]"
      ]
     },
     "metadata": {},
     "output_type": "display_data"
    },
    {
     "name": "stdout",
     "output_type": "stream",
     "text": [
      "[2024-01-05 18:50:50,391: 477: logger: INFO: head_model_fold_training:  Part3. Training has been completed]\n"
     ]
    },
    {
     "data": {
      "application/vnd.jupyter.widget-view+json": {
       "model_id": "d2aca4c925c2443582b6742e9c49fc82",
       "version_major": 2,
       "version_minor": 0
      },
      "text/plain": [
       "val_embeddings:   0%|          | 0/21 [00:00<?, ?it/s]"
      ]
     },
     "metadata": {},
     "output_type": "display_data"
    },
    {
     "name": "stdout",
     "output_type": "stream",
     "text": [
      "[2024-01-05 18:53:45,959: 488: logger: INFO: head_model_fold_training:  Part4. Logits have been calculated]\n",
      "[2024-01-05 18:53:45,966: 146: logger: INFO: common:  tensor file saved at: data/logits]\n",
      "{'accuracy': 0.8831536264894518, 'balanced_accuracy': 0.8504298125760359, 'precision_pos': 0.8942581437664633, 'precision_neg': 0.8549361696445263, 'recall_pos': 0.9399929018368224, 'recall_neg': 0.7608667233152494, 'f1_pos': 0.916555353276384, 'f1_neg': 0.805163160525811}\n",
      "[2024-01-05 18:53:48,236: 92: logger: INFO: common:  json file saved at: logs/MHSA_STCNN_BiRNN_3.json]\n",
      "[2024-01-05 18:53:48,244: 495: logger: INFO: head_model_fold_training:  Part5. Evaluation has been completed]\n",
      "[2024-01-05 18:53:48,245: 497: logger: INFO: head_model_fold_training:  === FINISHED TRAINING STAGE for fold 3 and model MHSA_STCNN_BiRNN ===]\n",
      "CPU times: user 44min 34s, sys: 6min 33s, total: 51min 7s\n",
      "Wall time: 55min 10s\n"
     ]
    }
   ],
   "source": [
    "%%time\n",
    "component = HeadModelFoldTraining(head_model_fold_training_config, config_manager.config.path, \n",
    "                                  'head_model_MHSA_STCNN_BiRNN', use_default_training_configs=True)\n",
    "component.run_stage(fold=3, n_epochs=3)"
   ]
  },
  {
   "cell_type": "markdown",
   "id": "bbb1b0f6-06f5-4e6a-b1bf-24acbfe909eb",
   "metadata": {
    "jp-MarkdownHeadingCollapsed": true
   },
   "source": [
    "# BiLSTM"
   ]
  },
  {
   "cell_type": "code",
   "execution_count": 4,
   "id": "9a2f28fc-005c-4432-9f10-2c15efb236cd",
   "metadata": {},
   "outputs": [
    {
     "name": "stdout",
     "output_type": "stream",
     "text": [
      "[2024-01-05 10:15:42,213: 47: logger: INFO: common:  yaml file: src/params/head_model_MHSA_STCNN_BiLSTM.yaml loaded successfully]\n",
      "[2024-01-05 10:15:42,214: 457: logger: INFO: head_model_fold_training:  === STARTING TRAINING STAGE for fold 0 and model MHSA_STCNN_BiLSTM ===]\n",
      "[2024-01-05 10:15:42,255: 171: logger: INFO: common:  tensor file has been loaded from: data/target]\n",
      "[2024-01-05 10:15:42,256: 461: logger: INFO: head_model_fold_training:  Part1. Target data has been loaded]\n",
      "[2024-01-05 10:15:43,338: 473: logger: INFO: head_model_fold_training:  Part2. Head model has been initialized]\n",
      "[2024-01-05 10:15:43,653: 272: logger: INFO: head_model_fold_training:  WARNING: Using number of epochs specified in arguments instead of one in configs.]\n"
     ]
    },
    {
     "data": {
      "application/vnd.jupyter.widget-view+json": {
       "model_id": "44340942bed746e49552cb259318c2b5",
       "version_major": 2,
       "version_minor": 0
      },
      "text/plain": [
       "epochs:   0%|          | 0/3 [00:00<?, ?it/s]"
      ]
     },
     "metadata": {},
     "output_type": "display_data"
    },
    {
     "data": {
      "application/vnd.jupyter.widget-view+json": {
       "model_id": "4515f9dc9be64292acc96e1902223dc8",
       "version_major": 2,
       "version_minor": 0
      },
      "text/plain": [
       "embeddings:   0%|          | 0/63 [00:00<?, ?it/s]"
      ]
     },
     "metadata": {},
     "output_type": "display_data"
    },
    {
     "data": {
      "application/vnd.jupyter.widget-view+json": {
       "model_id": "ba8490b363ce41dbb3a11062142b2642",
       "version_major": 2,
       "version_minor": 0
      },
      "text/plain": [
       "embeddings:   0%|          | 0/63 [00:00<?, ?it/s]"
      ]
     },
     "metadata": {},
     "output_type": "display_data"
    },
    {
     "data": {
      "application/vnd.jupyter.widget-view+json": {
       "model_id": "40099aed5cfe4daebcfa13d20c34e261",
       "version_major": 2,
       "version_minor": 0
      },
      "text/plain": [
       "embeddings:   0%|          | 0/63 [00:00<?, ?it/s]"
      ]
     },
     "metadata": {},
     "output_type": "display_data"
    },
    {
     "name": "stdout",
     "output_type": "stream",
     "text": [
      "[2024-01-05 11:24:00,847: 477: logger: INFO: head_model_fold_training:  Part3. Training has been completed]\n"
     ]
    },
    {
     "data": {
      "application/vnd.jupyter.widget-view+json": {
       "model_id": "d11903904daf4339a9d19c42d45f79ed",
       "version_major": 2,
       "version_minor": 0
      },
      "text/plain": [
       "val_embeddings:   0%|          | 0/21 [00:00<?, ?it/s]"
      ]
     },
     "metadata": {},
     "output_type": "display_data"
    },
    {
     "name": "stdout",
     "output_type": "stream",
     "text": [
      "[2024-01-05 11:27:39,885: 488: logger: INFO: head_model_fold_training:  Part4. Logits have been calculated]\n",
      "[2024-01-05 11:27:39,894: 146: logger: INFO: common:  tensor file saved at: data/logits]\n",
      "{'accuracy': 0.8891824776785714, 'balanced_accuracy': 0.8741042672659844, 'precision_pos': 0.9123998082561341, 'precision_neg': 0.8425873101102982, 'recall_pos': 0.9208392694153832, 'recall_neg': 0.8273692651165856, 'f1_pos': 0.9166001129721258, 'f1_neg': 0.8349089478183638}\n",
      "[2024-01-05 11:27:42,086: 92: logger: INFO: common:  json file saved at: logs/MHSA_STCNN_BiLSTM_0.json]\n",
      "[2024-01-05 11:27:42,092: 495: logger: INFO: head_model_fold_training:  Part5. Evaluation has been completed]\n",
      "[2024-01-05 11:27:42,093: 497: logger: INFO: head_model_fold_training:  === FINISHED TRAINING STAGE for fold 0 and model MHSA_STCNN_BiLSTM ===]\n",
      "CPU times: user 1h 1min 32s, sys: 6min 19s, total: 1h 7min 51s\n",
      "Wall time: 1h 11min 59s\n"
     ]
    }
   ],
   "source": [
    "%%time\n",
    "component = HeadModelFoldTraining(head_model_fold_training_config, config_manager.config.path, \n",
    "                                  'head_model_MHSA_STCNN_BiLSTM', use_default_training_configs=True)\n",
    "component.run_stage(fold=0, n_epochs=3)"
   ]
  },
  {
   "cell_type": "code",
   "execution_count": 5,
   "id": "f34242f0-6c3a-4389-a200-8d84bc49cd7a",
   "metadata": {},
   "outputs": [
    {
     "name": "stdout",
     "output_type": "stream",
     "text": [
      "[2024-01-05 11:30:57,368: 47: logger: INFO: common:  yaml file: src/params/head_model_MHSA_STCNN_BiLSTM.yaml loaded successfully]\n",
      "[2024-01-05 11:30:57,370: 457: logger: INFO: head_model_fold_training:  === STARTING TRAINING STAGE for fold 1 and model MHSA_STCNN_BiLSTM ===]\n",
      "[2024-01-05 11:30:57,407: 171: logger: INFO: common:  tensor file has been loaded from: data/target]\n",
      "[2024-01-05 11:30:57,408: 461: logger: INFO: head_model_fold_training:  Part1. Target data has been loaded]\n",
      "[2024-01-05 11:30:58,395: 473: logger: INFO: head_model_fold_training:  Part2. Head model has been initialized]\n",
      "[2024-01-05 11:30:58,731: 272: logger: INFO: head_model_fold_training:  WARNING: Using number of epochs specified in arguments instead of one in configs.]\n"
     ]
    },
    {
     "data": {
      "application/vnd.jupyter.widget-view+json": {
       "model_id": "dbbdc9e99d214e8ea19331180de9394e",
       "version_major": 2,
       "version_minor": 0
      },
      "text/plain": [
       "epochs:   0%|          | 0/3 [00:00<?, ?it/s]"
      ]
     },
     "metadata": {},
     "output_type": "display_data"
    },
    {
     "data": {
      "application/vnd.jupyter.widget-view+json": {
       "model_id": "cc9a6c1e89014d44bf996a1d4ad23e2a",
       "version_major": 2,
       "version_minor": 0
      },
      "text/plain": [
       "embeddings:   0%|          | 0/63 [00:00<?, ?it/s]"
      ]
     },
     "metadata": {},
     "output_type": "display_data"
    },
    {
     "data": {
      "application/vnd.jupyter.widget-view+json": {
       "model_id": "50ec99055b284993abc1825244b03572",
       "version_major": 2,
       "version_minor": 0
      },
      "text/plain": [
       "embeddings:   0%|          | 0/63 [00:00<?, ?it/s]"
      ]
     },
     "metadata": {},
     "output_type": "display_data"
    },
    {
     "data": {
      "application/vnd.jupyter.widget-view+json": {
       "model_id": "1326d4fdab87499eaf63b64dcd1a4872",
       "version_major": 2,
       "version_minor": 0
      },
      "text/plain": [
       "embeddings:   0%|          | 0/63 [00:00<?, ?it/s]"
      ]
     },
     "metadata": {},
     "output_type": "display_data"
    },
    {
     "name": "stdout",
     "output_type": "stream",
     "text": [
      "[2024-01-05 12:38:34,306: 477: logger: INFO: head_model_fold_training:  Part3. Training has been completed]\n"
     ]
    },
    {
     "data": {
      "application/vnd.jupyter.widget-view+json": {
       "model_id": "2f1422ecc0d545bc91460bfdc8a4ac9f",
       "version_major": 2,
       "version_minor": 0
      },
      "text/plain": [
       "val_embeddings:   0%|          | 0/21 [00:00<?, ?it/s]"
      ]
     },
     "metadata": {},
     "output_type": "display_data"
    },
    {
     "name": "stdout",
     "output_type": "stream",
     "text": [
      "[2024-01-05 12:42:34,579: 488: logger: INFO: head_model_fold_training:  Part4. Logits have been calculated]\n",
      "[2024-01-05 12:42:34,589: 146: logger: INFO: common:  tensor file saved at: data/logits]\n",
      "{'accuracy': 0.886772693452381, 'balanced_accuracy': 0.8581512845430783, 'precision_pos': 0.9134007273783769, 'precision_neg': 0.8192872076052227, 'recall_pos': 0.9275878692722301, 'recall_neg': 0.7887146998139264, 'f1_pos': 0.9204396334035645, 'f1_neg': 0.8037103202755169}\n",
      "[2024-01-05 12:42:36,822: 92: logger: INFO: common:  json file saved at: logs/MHSA_STCNN_BiLSTM_1.json]\n",
      "[2024-01-05 12:42:36,829: 495: logger: INFO: head_model_fold_training:  Part5. Evaluation has been completed]\n",
      "[2024-01-05 12:42:36,830: 497: logger: INFO: head_model_fold_training:  === FINISHED TRAINING STAGE for fold 1 and model MHSA_STCNN_BiLSTM ===]\n",
      "CPU times: user 1h 1min 21s, sys: 6min 4s, total: 1h 7min 25s\n",
      "Wall time: 1h 11min 39s\n"
     ]
    }
   ],
   "source": [
    "%%time\n",
    "component = HeadModelFoldTraining(head_model_fold_training_config, config_manager.config.path, \n",
    "                                  'head_model_MHSA_STCNN_BiLSTM', use_default_training_configs=True)\n",
    "component.run_stage(fold=1, n_epochs=3)"
   ]
  },
  {
   "cell_type": "code",
   "execution_count": 4,
   "id": "0dbf16bd-ca6f-49d7-8b94-08561e6ca0f9",
   "metadata": {},
   "outputs": [
    {
     "name": "stdout",
     "output_type": "stream",
     "text": [
      "[2024-01-05 12:43:18,690: 47: logger: INFO: common:  yaml file: src/params/head_model_MHSA_STCNN_BiLSTM.yaml loaded successfully]\n",
      "[2024-01-05 12:43:18,692: 457: logger: INFO: head_model_fold_training:  === STARTING TRAINING STAGE for fold 2 and model MHSA_STCNN_BiLSTM ===]\n",
      "[2024-01-05 12:43:18,727: 171: logger: INFO: common:  tensor file has been loaded from: data/target]\n",
      "[2024-01-05 12:43:18,728: 461: logger: INFO: head_model_fold_training:  Part1. Target data has been loaded]\n",
      "[2024-01-05 12:43:19,574: 473: logger: INFO: head_model_fold_training:  Part2. Head model has been initialized]\n",
      "[2024-01-05 12:43:19,916: 272: logger: INFO: head_model_fold_training:  WARNING: Using number of epochs specified in arguments instead of one in configs.]\n"
     ]
    },
    {
     "data": {
      "application/vnd.jupyter.widget-view+json": {
       "model_id": "cab18bb9cc584b038ad85188faa1de8c",
       "version_major": 2,
       "version_minor": 0
      },
      "text/plain": [
       "epochs:   0%|          | 0/3 [00:00<?, ?it/s]"
      ]
     },
     "metadata": {},
     "output_type": "display_data"
    },
    {
     "data": {
      "application/vnd.jupyter.widget-view+json": {
       "model_id": "0b6dfd590c21497d81d3996b244d98a7",
       "version_major": 2,
       "version_minor": 0
      },
      "text/plain": [
       "embeddings:   0%|          | 0/63 [00:00<?, ?it/s]"
      ]
     },
     "metadata": {},
     "output_type": "display_data"
    },
    {
     "data": {
      "application/vnd.jupyter.widget-view+json": {
       "model_id": "7554cfd791dc47f991cd4ecd81cb8a1f",
       "version_major": 2,
       "version_minor": 0
      },
      "text/plain": [
       "embeddings:   0%|          | 0/63 [00:00<?, ?it/s]"
      ]
     },
     "metadata": {},
     "output_type": "display_data"
    },
    {
     "data": {
      "application/vnd.jupyter.widget-view+json": {
       "model_id": "7687e803cc5d4786846be4fe3f579fa3",
       "version_major": 2,
       "version_minor": 0
      },
      "text/plain": [
       "embeddings:   0%|          | 0/63 [00:00<?, ?it/s]"
      ]
     },
     "metadata": {},
     "output_type": "display_data"
    },
    {
     "name": "stdout",
     "output_type": "stream",
     "text": [
      "[2024-01-05 13:52:24,742: 477: logger: INFO: head_model_fold_training:  Part3. Training has been completed]\n"
     ]
    },
    {
     "data": {
      "application/vnd.jupyter.widget-view+json": {
       "model_id": "c613a72204fe47389bb41f71234e9587",
       "version_major": 2,
       "version_minor": 0
      },
      "text/plain": [
       "val_embeddings:   0%|          | 0/21 [00:00<?, ?it/s]"
      ]
     },
     "metadata": {},
     "output_type": "display_data"
    },
    {
     "name": "stdout",
     "output_type": "stream",
     "text": [
      "[2024-01-05 13:56:01,904: 488: logger: INFO: head_model_fold_training:  Part4. Logits have been calculated]\n",
      "[2024-01-05 13:56:01,912: 146: logger: INFO: common:  tensor file saved at: data/logits]\n",
      "{'accuracy': 0.8931026785714286, 'balanced_accuracy': 0.8700778746780258, 'precision_pos': 0.9211934129292982, 'precision_neg': 0.8254714290241816, 'recall_pos': 0.927048559225935, 'recall_neg': 0.8131071901301167, 'f1_pos': 0.9241117116593663, 'f1_neg': 0.819242661097289}\n",
      "[2024-01-05 13:56:04,182: 92: logger: INFO: common:  json file saved at: logs/MHSA_STCNN_BiLSTM_2.json]\n",
      "[2024-01-05 13:56:04,188: 495: logger: INFO: head_model_fold_training:  Part5. Evaluation has been completed]\n",
      "[2024-01-05 13:56:04,190: 497: logger: INFO: head_model_fold_training:  === FINISHED TRAINING STAGE for fold 2 and model MHSA_STCNN_BiLSTM ===]\n",
      "CPU times: user 1h 1min 27s, sys: 6min 5s, total: 1h 7min 32s\n",
      "Wall time: 1h 12min 45s\n"
     ]
    }
   ],
   "source": [
    "%%time\n",
    "component = HeadModelFoldTraining(head_model_fold_training_config, config_manager.config.path, \n",
    "                                  'head_model_MHSA_STCNN_BiLSTM', use_default_training_configs=True)\n",
    "component.run_stage(fold=2, n_epochs=3)"
   ]
  },
  {
   "cell_type": "code",
   "execution_count": 4,
   "id": "caaafc1c-04b5-4c2a-8e72-d626472a6795",
   "metadata": {},
   "outputs": [
    {
     "name": "stdout",
     "output_type": "stream",
     "text": [
      "[2024-01-05 13:56:33,769: 47: logger: INFO: common:  yaml file: src/params/head_model_MHSA_STCNN_BiLSTM.yaml loaded successfully]\n",
      "[2024-01-05 13:56:33,771: 457: logger: INFO: head_model_fold_training:  === STARTING TRAINING STAGE for fold 3 and model MHSA_STCNN_BiLSTM ===]\n",
      "[2024-01-05 13:56:33,824: 171: logger: INFO: common:  tensor file has been loaded from: data/target]\n",
      "[2024-01-05 13:56:33,825: 461: logger: INFO: head_model_fold_training:  Part1. Target data has been loaded]\n",
      "[2024-01-05 13:56:34,709: 473: logger: INFO: head_model_fold_training:  Part2. Head model has been initialized]\n",
      "[2024-01-05 13:56:35,048: 272: logger: INFO: head_model_fold_training:  WARNING: Using number of epochs specified in arguments instead of one in configs.]\n"
     ]
    },
    {
     "data": {
      "application/vnd.jupyter.widget-view+json": {
       "model_id": "40220f7652d44535b074823002284542",
       "version_major": 2,
       "version_minor": 0
      },
      "text/plain": [
       "epochs:   0%|          | 0/3 [00:00<?, ?it/s]"
      ]
     },
     "metadata": {},
     "output_type": "display_data"
    },
    {
     "data": {
      "application/vnd.jupyter.widget-view+json": {
       "model_id": "a79e7631982f4f22b27c0e4aaa811121",
       "version_major": 2,
       "version_minor": 0
      },
      "text/plain": [
       "embeddings:   0%|          | 0/63 [00:00<?, ?it/s]"
      ]
     },
     "metadata": {},
     "output_type": "display_data"
    },
    {
     "data": {
      "application/vnd.jupyter.widget-view+json": {
       "model_id": "3e624ab599d34877a277432beb61c9a5",
       "version_major": 2,
       "version_minor": 0
      },
      "text/plain": [
       "embeddings:   0%|          | 0/63 [00:00<?, ?it/s]"
      ]
     },
     "metadata": {},
     "output_type": "display_data"
    },
    {
     "data": {
      "application/vnd.jupyter.widget-view+json": {
       "model_id": "af55313054c742eab7f6eac1efd8590d",
       "version_major": 2,
       "version_minor": 0
      },
      "text/plain": [
       "embeddings:   0%|          | 0/63 [00:00<?, ?it/s]"
      ]
     },
     "metadata": {},
     "output_type": "display_data"
    },
    {
     "name": "stdout",
     "output_type": "stream",
     "text": [
      "[2024-01-05 15:06:10,615: 477: logger: INFO: head_model_fold_training:  Part3. Training has been completed]\n"
     ]
    },
    {
     "data": {
      "application/vnd.jupyter.widget-view+json": {
       "model_id": "b613ccc9a069490c8f903b5c84ab52a5",
       "version_major": 2,
       "version_minor": 0
      },
      "text/plain": [
       "val_embeddings:   0%|          | 0/21 [00:00<?, ?it/s]"
      ]
     },
     "metadata": {},
     "output_type": "display_data"
    },
    {
     "name": "stdout",
     "output_type": "stream",
     "text": [
      "[2024-01-05 15:09:47,784: 488: logger: INFO: head_model_fold_training:  Part4. Logits have been calculated]\n",
      "[2024-01-05 15:09:47,790: 146: logger: INFO: common:  tensor file saved at: data/logits]\n",
      "{'accuracy': 0.8860573446628623, 'balanced_accuracy': 0.8637556718892534, 'precision_pos': 0.9097901974396562, 'precision_neg': 0.8322459616308727, 'recall_pos': 0.9247939944568041, 'recall_neg': 0.8027173493217026, 'f1_pos': 0.9172307431016489, 'f1_neg': 0.8172150014972461}\n",
      "[2024-01-05 15:09:49,940: 92: logger: INFO: common:  json file saved at: logs/MHSA_STCNN_BiLSTM_3.json]\n",
      "[2024-01-05 15:09:49,947: 495: logger: INFO: head_model_fold_training:  Part5. Evaluation has been completed]\n",
      "[2024-01-05 15:09:49,948: 497: logger: INFO: head_model_fold_training:  === FINISHED TRAINING STAGE for fold 3 and model MHSA_STCNN_BiLSTM ===]\n",
      "CPU times: user 1h 1min 58s, sys: 6min 41s, total: 1h 8min 39s\n",
      "Wall time: 1h 13min 16s\n"
     ]
    }
   ],
   "source": [
    "%%time\n",
    "component = HeadModelFoldTraining(head_model_fold_training_config, config_manager.config.path, \n",
    "                                  'head_model_MHSA_STCNN_BiLSTM', use_default_training_configs=True)\n",
    "component.run_stage(fold=3, n_epochs=3)"
   ]
  },
  {
   "cell_type": "markdown",
   "id": "13b045c4-4676-486a-9964-feec42f7b069",
   "metadata": {
    "jp-MarkdownHeadingCollapsed": true
   },
   "source": [
    "# GRU"
   ]
  },
  {
   "cell_type": "code",
   "execution_count": 4,
   "id": "ae0f6f37-43e3-4547-b8ea-8f1c1566e61c",
   "metadata": {},
   "outputs": [
    {
     "name": "stdout",
     "output_type": "stream",
     "text": [
      "[2024-01-04 19:30:59,539: 47: logger: INFO: common:  yaml file: src/params/head_model_MHSA_STCNN_GRU.yaml loaded successfully]\n",
      "[2024-01-04 19:30:59,541: 435: logger: INFO: head_model_fold_training:  === STARTING TRAINING STAGE for fold 0 and model MHSA_STCNN_GRU ===]\n",
      "[2024-01-04 19:30:59,586: 171: logger: INFO: common:  tensor file has been loaded from: data/target]\n",
      "[2024-01-04 19:30:59,587: 439: logger: INFO: head_model_fold_training:  Part1. Target data has been loaded]\n",
      "[2024-01-04 19:30:59,636: 68: logger: INFO: trio:  WARNING: One of RecModels has no value specified for hidden_size. Using input_size value]\n",
      "[2024-01-04 19:30:59,665: 68: logger: INFO: trio:  WARNING: One of RecModels has no value specified for hidden_size. Using input_size value]\n",
      "[2024-01-04 19:31:00,500: 449: logger: INFO: head_model_fold_training:  Part2. Head model has been initialized]\n",
      "[2024-01-04 19:31:00,876: 272: logger: INFO: head_model_fold_training:  WARNING: Using number of epochs specified in arguments instead of one in configs.]\n"
     ]
    },
    {
     "data": {
      "application/vnd.jupyter.widget-view+json": {
       "model_id": "90f46c91e4a9470b92c18f25b2fea1b7",
       "version_major": 2,
       "version_minor": 0
      },
      "text/plain": [
       "epochs:   0%|          | 0/3 [00:00<?, ?it/s]"
      ]
     },
     "metadata": {},
     "output_type": "display_data"
    },
    {
     "data": {
      "application/vnd.jupyter.widget-view+json": {
       "model_id": "dd542e617ad245f3b3ac86f2029c9ec9",
       "version_major": 2,
       "version_minor": 0
      },
      "text/plain": [
       "embeddings:   0%|          | 0/63 [00:00<?, ?it/s]"
      ]
     },
     "metadata": {},
     "output_type": "display_data"
    },
    {
     "data": {
      "application/vnd.jupyter.widget-view+json": {
       "model_id": "40926cb7ba224c21b0af09b87bb0a4e0",
       "version_major": 2,
       "version_minor": 0
      },
      "text/plain": [
       "embeddings:   0%|          | 0/63 [00:00<?, ?it/s]"
      ]
     },
     "metadata": {},
     "output_type": "display_data"
    },
    {
     "data": {
      "application/vnd.jupyter.widget-view+json": {
       "model_id": "5352db1ad17f4b92bfed2208bdaf11cb",
       "version_major": 2,
       "version_minor": 0
      },
      "text/plain": [
       "embeddings:   0%|          | 0/63 [00:00<?, ?it/s]"
      ]
     },
     "metadata": {},
     "output_type": "display_data"
    },
    {
     "name": "stdout",
     "output_type": "stream",
     "text": [
      "[2024-01-04 20:24:04,968: 453: logger: INFO: head_model_fold_training:  Part3. Training has been completed]\n"
     ]
    },
    {
     "data": {
      "application/vnd.jupyter.widget-view+json": {
       "model_id": "cdead02f3f8d450a95f7de894fad20d1",
       "version_major": 2,
       "version_minor": 0
      },
      "text/plain": [
       "val_embeddings:   0%|          | 0/21 [00:00<?, ?it/s]"
      ]
     },
     "metadata": {},
     "output_type": "display_data"
    },
    {
     "name": "stdout",
     "output_type": "stream",
     "text": [
      "[2024-01-04 20:27:11,193: 457: logger: INFO: head_model_fold_training:  Part4. Logits have been calculated]\n",
      "[2024-01-04 20:27:11,201: 146: logger: INFO: common:  tensor file saved at: data/logits]\n",
      "{'accuracy': 0.8883277529761905, 'balanced_accuracy': 0.8640927126768432, 'precision_pos': 0.8968062234528991, 'precision_neg': 0.8692263707405917, 'recall_pos': 0.9392093630941415, 'recall_neg': 0.7889760622595448, 'f1_pos': 0.9175181388651893, 'f1_neg': 0.8271593209018177}\n",
      "[2024-01-04 20:27:12,772: 92: logger: INFO: common:  json file saved at: logs/MHSA_STCNN_GRU_0.json]\n",
      "[2024-01-04 20:27:12,779: 464: logger: INFO: head_model_fold_training:  Part5. Evaluation has been completed]\n",
      "[2024-01-04 20:27:12,780: 466: logger: INFO: head_model_fold_training:  === FINISHED TRAINING STAGE for fold 0 and model MHSA_STCNN_GRU ===]\n",
      "CPU times: user 46min 44s, sys: 6min 17s, total: 53min 1s\n",
      "Wall time: 56min 13s\n"
     ]
    }
   ],
   "source": [
    "%%time\n",
    "component = HeadModelFoldTraining(head_model_fold_training_config, config_manager.config.path, \n",
    "                                  'head_model_MHSA_STCNN_GRU', use_default_training_configs=True)\n",
    "component.run_stage(fold=0, n_epochs=3)"
   ]
  },
  {
   "cell_type": "code",
   "execution_count": 4,
   "id": "3c5d4a7a-7642-4b6e-b89c-849f2e6f80fa",
   "metadata": {},
   "outputs": [
    {
     "name": "stdout",
     "output_type": "stream",
     "text": [
      "[2024-01-04 20:33:20,708: 47: logger: INFO: common:  yaml file: src/params/head_model_MHSA_STCNN_GRU.yaml loaded successfully]\n",
      "[2024-01-04 20:33:20,710: 435: logger: INFO: head_model_fold_training:  === STARTING TRAINING STAGE for fold 1 and model MHSA_STCNN_GRU ===]\n",
      "[2024-01-04 20:33:20,739: 171: logger: INFO: common:  tensor file has been loaded from: data/target]\n",
      "[2024-01-04 20:33:20,740: 439: logger: INFO: head_model_fold_training:  Part1. Target data has been loaded]\n",
      "[2024-01-04 20:33:20,792: 68: logger: INFO: trio:  WARNING: One of RecModels has no value specified for hidden_size. Using input_size value]\n",
      "[2024-01-04 20:33:20,822: 68: logger: INFO: trio:  WARNING: One of RecModels has no value specified for hidden_size. Using input_size value]\n",
      "[2024-01-04 20:33:21,640: 449: logger: INFO: head_model_fold_training:  Part2. Head model has been initialized]\n",
      "[2024-01-04 20:33:21,963: 272: logger: INFO: head_model_fold_training:  WARNING: Using number of epochs specified in arguments instead of one in configs.]\n"
     ]
    },
    {
     "data": {
      "application/vnd.jupyter.widget-view+json": {
       "model_id": "124609eceb6e4e4f8df0002aa44e2bc4",
       "version_major": 2,
       "version_minor": 0
      },
      "text/plain": [
       "epochs:   0%|          | 0/3 [00:00<?, ?it/s]"
      ]
     },
     "metadata": {},
     "output_type": "display_data"
    },
    {
     "data": {
      "application/vnd.jupyter.widget-view+json": {
       "model_id": "fa8e24e2049640b4a73a5f0b51808593",
       "version_major": 2,
       "version_minor": 0
      },
      "text/plain": [
       "embeddings:   0%|          | 0/63 [00:00<?, ?it/s]"
      ]
     },
     "metadata": {},
     "output_type": "display_data"
    },
    {
     "data": {
      "application/vnd.jupyter.widget-view+json": {
       "model_id": "db81313dc11f49f3a647bbdba742b02b",
       "version_major": 2,
       "version_minor": 0
      },
      "text/plain": [
       "embeddings:   0%|          | 0/63 [00:00<?, ?it/s]"
      ]
     },
     "metadata": {},
     "output_type": "display_data"
    },
    {
     "data": {
      "application/vnd.jupyter.widget-view+json": {
       "model_id": "1a78adecbc8f47d0be854c4c207cb90d",
       "version_major": 2,
       "version_minor": 0
      },
      "text/plain": [
       "embeddings:   0%|          | 0/63 [00:00<?, ?it/s]"
      ]
     },
     "metadata": {},
     "output_type": "display_data"
    },
    {
     "name": "stdout",
     "output_type": "stream",
     "text": [
      "[2024-01-04 21:26:28,367: 453: logger: INFO: head_model_fold_training:  Part3. Training has been completed]\n"
     ]
    },
    {
     "data": {
      "application/vnd.jupyter.widget-view+json": {
       "model_id": "b3794023f12b492783bb8e2385655971",
       "version_major": 2,
       "version_minor": 0
      },
      "text/plain": [
       "val_embeddings:   0%|          | 0/21 [00:00<?, ?it/s]"
      ]
     },
     "metadata": {},
     "output_type": "display_data"
    },
    {
     "name": "stdout",
     "output_type": "stream",
     "text": [
      "[2024-01-04 21:29:43,819: 457: logger: INFO: head_model_fold_training:  Part4. Logits have been calculated]\n",
      "[2024-01-04 21:29:43,826: 146: logger: INFO: common:  tensor file saved at: data/logits]\n",
      "{'accuracy': 0.8863532366071428, 'balanced_accuracy': 0.8625243201233046, 'precision_pos': 0.9188466975704376, 'precision_neg': 0.8078564053689143, 'recall_pos': 0.9203341429617649, 'recall_neg': 0.8047144972848445, 'f1_pos': 0.919589818777182, 'f1_neg': 0.8062823905044398}\n",
      "[2024-01-04 21:29:45,342: 92: logger: INFO: common:  json file saved at: logs/MHSA_STCNN_GRU_1.json]\n",
      "[2024-01-04 21:29:45,349: 464: logger: INFO: head_model_fold_training:  Part5. Evaluation has been completed]\n",
      "[2024-01-04 21:29:45,350: 466: logger: INFO: head_model_fold_training:  === FINISHED TRAINING STAGE for fold 1 and model MHSA_STCNN_GRU ===]\n",
      "CPU times: user 46min 39s, sys: 6min 16s, total: 52min 55s\n",
      "Wall time: 56min 24s\n"
     ]
    }
   ],
   "source": [
    "%%time\n",
    "component = HeadModelFoldTraining(head_model_fold_training_config, config_manager.config.path, \n",
    "                                  'head_model_MHSA_STCNN_GRU', use_default_training_configs=True)\n",
    "component.run_stage(fold=1, n_epochs=3)"
   ]
  },
  {
   "cell_type": "code",
   "execution_count": 4,
   "id": "b05ff94f-8ab7-4499-b54b-843fcecc4462",
   "metadata": {},
   "outputs": [
    {
     "name": "stdout",
     "output_type": "stream",
     "text": [
      "[2024-01-04 21:32:50,755: 47: logger: INFO: common:  yaml file: src/params/head_model_MHSA_STCNN_GRU.yaml loaded successfully]\n",
      "[2024-01-04 21:32:50,757: 435: logger: INFO: head_model_fold_training:  === STARTING TRAINING STAGE for fold 2 and model MHSA_STCNN_GRU ===]\n",
      "[2024-01-04 21:32:50,814: 171: logger: INFO: common:  tensor file has been loaded from: data/target]\n",
      "[2024-01-04 21:32:50,815: 439: logger: INFO: head_model_fold_training:  Part1. Target data has been loaded]\n",
      "[2024-01-04 21:32:50,862: 68: logger: INFO: trio:  WARNING: One of RecModels has no value specified for hidden_size. Using input_size value]\n",
      "[2024-01-04 21:32:50,887: 68: logger: INFO: trio:  WARNING: One of RecModels has no value specified for hidden_size. Using input_size value]\n",
      "[2024-01-04 21:32:51,624: 449: logger: INFO: head_model_fold_training:  Part2. Head model has been initialized]\n",
      "[2024-01-04 21:32:51,932: 272: logger: INFO: head_model_fold_training:  WARNING: Using number of epochs specified in arguments instead of one in configs.]\n"
     ]
    },
    {
     "data": {
      "application/vnd.jupyter.widget-view+json": {
       "model_id": "e875c5eec5bd4cbc986ed7fc9b91c00c",
       "version_major": 2,
       "version_minor": 0
      },
      "text/plain": [
       "epochs:   0%|          | 0/3 [00:00<?, ?it/s]"
      ]
     },
     "metadata": {},
     "output_type": "display_data"
    },
    {
     "data": {
      "application/vnd.jupyter.widget-view+json": {
       "model_id": "6e4e0eb8e29046b5b1ce9a5772d9a8cc",
       "version_major": 2,
       "version_minor": 0
      },
      "text/plain": [
       "embeddings:   0%|          | 0/63 [00:00<?, ?it/s]"
      ]
     },
     "metadata": {},
     "output_type": "display_data"
    },
    {
     "data": {
      "application/vnd.jupyter.widget-view+json": {
       "model_id": "f70804b3f72340b28a4350ca380aa2cc",
       "version_major": 2,
       "version_minor": 0
      },
      "text/plain": [
       "embeddings:   0%|          | 0/63 [00:00<?, ?it/s]"
      ]
     },
     "metadata": {},
     "output_type": "display_data"
    },
    {
     "data": {
      "application/vnd.jupyter.widget-view+json": {
       "model_id": "f3a6424281d34317a139b402a3c4fae7",
       "version_major": 2,
       "version_minor": 0
      },
      "text/plain": [
       "embeddings:   0%|          | 0/63 [00:00<?, ?it/s]"
      ]
     },
     "metadata": {},
     "output_type": "display_data"
    },
    {
     "name": "stdout",
     "output_type": "stream",
     "text": [
      "[2024-01-04 22:27:13,229: 453: logger: INFO: head_model_fold_training:  Part3. Training has been completed]\n"
     ]
    },
    {
     "data": {
      "application/vnd.jupyter.widget-view+json": {
       "model_id": "973f9c5c46334cff80ba616457c71a2c",
       "version_major": 2,
       "version_minor": 0
      },
      "text/plain": [
       "val_embeddings:   0%|          | 0/21 [00:00<?, ?it/s]"
      ]
     },
     "metadata": {},
     "output_type": "display_data"
    },
    {
     "name": "stdout",
     "output_type": "stream",
     "text": [
      "[2024-01-04 22:30:18,428: 457: logger: INFO: head_model_fold_training:  Part4. Logits have been calculated]\n",
      "[2024-01-04 22:30:18,438: 146: logger: INFO: common:  tensor file saved at: data/logits]\n",
      "{'accuracy': 0.893471912202381, 'balanced_accuracy': 0.8563281622661606, 'precision_pos': 0.9046302275998822, 'precision_neg': 0.8623773081217004, 'recall_pos': 0.9482336078169544, 'recall_neg': 0.7644227167153668, 'f1_pos': 0.9259188592931119, 'f1_neg': 0.8104509400583513}\n",
      "[2024-01-04 22:30:19,888: 92: logger: INFO: common:  json file saved at: logs/MHSA_STCNN_GRU_2.json]\n",
      "[2024-01-04 22:30:19,896: 464: logger: INFO: head_model_fold_training:  Part5. Evaluation has been completed]\n",
      "[2024-01-04 22:30:19,897: 466: logger: INFO: head_model_fold_training:  === FINISHED TRAINING STAGE for fold 2 and model MHSA_STCNN_GRU ===]\n",
      "CPU times: user 46min 41s, sys: 6min 13s, total: 52min 55s\n",
      "Wall time: 57min 29s\n"
     ]
    }
   ],
   "source": [
    "%%time\n",
    "component = HeadModelFoldTraining(head_model_fold_training_config, config_manager.config.path, \n",
    "                                  'head_model_MHSA_STCNN_GRU', use_default_training_configs=True)\n",
    "component.run_stage(fold=2, n_epochs=3)"
   ]
  },
  {
   "cell_type": "code",
   "execution_count": 4,
   "id": "1cb15fca-6073-49f4-bcc3-af6891af4f58",
   "metadata": {
    "scrolled": true
   },
   "outputs": [
    {
     "name": "stdout",
     "output_type": "stream",
     "text": [
      "[2024-01-04 22:32:42,101: 47: logger: INFO: common:  yaml file: src/params/head_model_MHSA_STCNN_GRU.yaml loaded successfully]\n",
      "[2024-01-04 22:32:42,102: 435: logger: INFO: head_model_fold_training:  === STARTING TRAINING STAGE for fold 3 and model MHSA_STCNN_GRU ===]\n",
      "[2024-01-04 22:32:42,139: 171: logger: INFO: common:  tensor file has been loaded from: data/target]\n",
      "[2024-01-04 22:32:42,140: 439: logger: INFO: head_model_fold_training:  Part1. Target data has been loaded]\n",
      "[2024-01-04 22:32:42,204: 68: logger: INFO: trio:  WARNING: One of RecModels has no value specified for hidden_size. Using input_size value]\n",
      "[2024-01-04 22:32:42,235: 68: logger: INFO: trio:  WARNING: One of RecModels has no value specified for hidden_size. Using input_size value]\n",
      "[2024-01-04 22:32:42,952: 449: logger: INFO: head_model_fold_training:  Part2. Head model has been initialized]\n",
      "[2024-01-04 22:32:43,287: 272: logger: INFO: head_model_fold_training:  WARNING: Using number of epochs specified in arguments instead of one in configs.]\n"
     ]
    },
    {
     "data": {
      "application/vnd.jupyter.widget-view+json": {
       "model_id": "e479dc39a6494b2bae7503c456b45b1b",
       "version_major": 2,
       "version_minor": 0
      },
      "text/plain": [
       "epochs:   0%|          | 0/3 [00:00<?, ?it/s]"
      ]
     },
     "metadata": {},
     "output_type": "display_data"
    },
    {
     "data": {
      "application/vnd.jupyter.widget-view+json": {
       "model_id": "13c3c7e60ad34fba875304bd01e46333",
       "version_major": 2,
       "version_minor": 0
      },
      "text/plain": [
       "embeddings:   0%|          | 0/63 [00:00<?, ?it/s]"
      ]
     },
     "metadata": {},
     "output_type": "display_data"
    },
    {
     "data": {
      "application/vnd.jupyter.widget-view+json": {
       "model_id": "418b08c270bd4b6bb3e76aa2e9f6c47e",
       "version_major": 2,
       "version_minor": 0
      },
      "text/plain": [
       "embeddings:   0%|          | 0/63 [00:00<?, ?it/s]"
      ]
     },
     "metadata": {},
     "output_type": "display_data"
    },
    {
     "data": {
      "application/vnd.jupyter.widget-view+json": {
       "model_id": "c916af220bb14f8487c80b6fa0f42c96",
       "version_major": 2,
       "version_minor": 0
      },
      "text/plain": [
       "embeddings:   0%|          | 0/63 [00:00<?, ?it/s]"
      ]
     },
     "metadata": {},
     "output_type": "display_data"
    },
    {
     "name": "stdout",
     "output_type": "stream",
     "text": [
      "[2024-01-04 23:27:23,248: 453: logger: INFO: head_model_fold_training:  Part3. Training has been completed]\n"
     ]
    },
    {
     "data": {
      "application/vnd.jupyter.widget-view+json": {
       "model_id": "e4e6ea4e2c9149ad8be854c7e76a8c45",
       "version_major": 2,
       "version_minor": 0
      },
      "text/plain": [
       "val_embeddings:   0%|          | 0/22 [00:00<?, ?it/s]"
      ]
     },
     "metadata": {},
     "output_type": "display_data"
    },
    {
     "name": "stdout",
     "output_type": "stream",
     "text": [
      "[2024-01-04 23:30:28,112: 177: logger: ERROR: common:  Failed to read tensor from data/encoded. Error: [Errno 2] No such file or directory: 'data/encoded/embeddings_86.t']\n"
     ]
    },
    {
     "ename": "FileNotFoundError",
     "evalue": "[Errno 2] No such file or directory: 'data/encoded/embeddings_86.t'",
     "output_type": "error",
     "traceback": [
      "\u001b[0;31m---------------------------------------------------------------------------\u001b[0m",
      "\u001b[0;31mFileNotFoundError\u001b[0m                         Traceback (most recent call last)",
      "File \u001b[0;32m<timed exec>:3\u001b[0m\n",
      "File \u001b[0;32m/home/ubuntu/BigDataProject/src/components/head_model_fold_training.py:456\u001b[0m, in \u001b[0;36mHeadModelFoldTraining.run_stage\u001b[0;34m(self, fold, n_epochs)\u001b[0m\n\u001b[1;32m    453\u001b[0m logger\u001b[38;5;241m.\u001b[39minfo(\u001b[38;5;124m'\u001b[39m\u001b[38;5;124mPart3. Training has been completed\u001b[39m\u001b[38;5;124m'\u001b[39m)\n\u001b[1;32m    455\u001b[0m \u001b[38;5;66;03m# Making predictions on the validation fold\u001b[39;00m\n\u001b[0;32m--> 456\u001b[0m logits \u001b[38;5;241m=\u001b[39m \u001b[38;5;28;43mself\u001b[39;49m\u001b[38;5;241;43m.\u001b[39;49m\u001b[43mcalculate_logits\u001b[49m\u001b[43m(\u001b[49m\u001b[43mmodel\u001b[49m\u001b[43m,\u001b[49m\u001b[43m \u001b[49m\u001b[43mval_ids\u001b[49m\u001b[43m,\u001b[49m\u001b[43m \u001b[49m\u001b[43mfold\u001b[49m\u001b[43m)\u001b[49m\n\u001b[1;32m    457\u001b[0m logger\u001b[38;5;241m.\u001b[39minfo(\u001b[38;5;124m'\u001b[39m\u001b[38;5;124mPart4. Logits have been calculated\u001b[39m\u001b[38;5;124m'\u001b[39m)\n\u001b[1;32m    459\u001b[0m \u001b[38;5;66;03m# Saving logits\u001b[39;00m\n",
      "File \u001b[0;32m/home/ubuntu/BigDataProject/src/components/head_model_fold_training.py:357\u001b[0m, in \u001b[0;36mHeadModelFoldTraining.calculate_logits\u001b[0;34m(self, model, val_ids, fold)\u001b[0m\n\u001b[1;32m    355\u001b[0m bottom \u001b[38;5;241m=\u001b[39m \u001b[38;5;28mself\u001b[39m\u001b[38;5;241m.\u001b[39mconfig\u001b[38;5;241m.\u001b[39membedding_file_size\u001b[38;5;241m*\u001b[39membedding_id\n\u001b[1;32m    356\u001b[0m top \u001b[38;5;241m=\u001b[39m \u001b[38;5;28mself\u001b[39m\u001b[38;5;241m.\u001b[39mconfig\u001b[38;5;241m.\u001b[39membedding_file_size\u001b[38;5;241m*\u001b[39m(embedding_id \u001b[38;5;241m+\u001b[39m \u001b[38;5;241m1\u001b[39m)\n\u001b[0;32m--> 357\u001b[0m train_dataset \u001b[38;5;241m=\u001b[39m CustomDataset4(X\u001b[38;5;241m=\u001b[39m\u001b[38;5;28;43mself\u001b[39;49m\u001b[38;5;241;43m.\u001b[39;49m\u001b[43mread_encoded_data\u001b[49m\u001b[43m(\u001b[49m\u001b[43membedding_id\u001b[49m\u001b[43m)\u001b[49m)\n\u001b[1;32m    359\u001b[0m \u001b[38;5;66;03m# Creating generator to yield data in batches\u001b[39;00m\n\u001b[1;32m    360\u001b[0m batch_generator \u001b[38;5;241m=\u001b[39m torch\u001b[38;5;241m.\u001b[39mutils\u001b[38;5;241m.\u001b[39mdata\u001b[38;5;241m.\u001b[39mDataLoader(dataset\u001b[38;5;241m=\u001b[39mtrain_dataset, \n\u001b[1;32m    361\u001b[0m                                               batch_size\u001b[38;5;241m=\u001b[39m\u001b[38;5;28mself\u001b[39m\u001b[38;5;241m.\u001b[39mtraining_configs\u001b[38;5;241m.\u001b[39mbatch_size,\n\u001b[1;32m    362\u001b[0m                                               shuffle\u001b[38;5;241m=\u001b[39m\u001b[38;5;28;01mFalse\u001b[39;00m)\n",
      "File \u001b[0;32m/home/ubuntu/BigDataProject/src/components/head_model_fold_training.py:92\u001b[0m, in \u001b[0;36mHeadModelFoldTraining.read_encoded_data\u001b[0;34m(self, it)\u001b[0m\n\u001b[1;32m     81\u001b[0m \u001b[38;5;28;01mdef\u001b[39;00m \u001b[38;5;21mread_encoded_data\u001b[39m(\u001b[38;5;28mself\u001b[39m, it: \u001b[38;5;28mint\u001b[39m) \u001b[38;5;241m-\u001b[39m\u001b[38;5;241m>\u001b[39m torch\u001b[38;5;241m.\u001b[39mTensor:\n\u001b[1;32m     82\u001b[0m \u001b[38;5;250m    \u001b[39m\u001b[38;5;124;03m\"\"\"\u001b[39;00m\n\u001b[1;32m     83\u001b[0m \u001b[38;5;124;03m    Reads file with a part of encoded data.\u001b[39;00m\n\u001b[1;32m     84\u001b[0m \n\u001b[0;32m   (...)\u001b[0m\n\u001b[1;32m     89\u001b[0m \u001b[38;5;124;03m    - data (torch.Tensor): Tensor with encoded data.\u001b[39;00m\n\u001b[1;32m     90\u001b[0m \u001b[38;5;124;03m    \"\"\"\u001b[39;00m\n\u001b[0;32m---> 92\u001b[0m     data \u001b[38;5;241m=\u001b[39m \u001b[43mload_tensor\u001b[49m\u001b[43m(\u001b[49m\u001b[38;5;28;43mself\u001b[39;49m\u001b[38;5;241;43m.\u001b[39;49m\u001b[43mpath\u001b[49m\u001b[38;5;241;43m.\u001b[39;49m\u001b[43mpath_to_encoded_data\u001b[49m\u001b[43m,\u001b[49m\u001b[43m \u001b[49m\u001b[38;5;124;43mf\u001b[39;49m\u001b[38;5;124;43m'\u001b[39;49m\u001b[38;5;124;43membeddings_\u001b[39;49m\u001b[38;5;132;43;01m{\u001b[39;49;00m\u001b[43mit\u001b[49m\u001b[38;5;132;43;01m}\u001b[39;49;00m\u001b[38;5;124;43m.t\u001b[39;49m\u001b[38;5;124;43m'\u001b[39;49m\u001b[43m,\u001b[49m\u001b[43m \u001b[49m\u001b[43mlogging\u001b[49m\u001b[38;5;241;43m=\u001b[39;49m\u001b[38;5;28;43;01mFalse\u001b[39;49;00m\u001b[43m)\u001b[49m\n\u001b[1;32m     94\u001b[0m     \u001b[38;5;28;01mreturn\u001b[39;00m data\n",
      "File \u001b[0;32m/home/ubuntu/BigDataProject/lib/python3.10/site-packages/ensure/main.py:872\u001b[0m, in \u001b[0;36mWrappedFunctionReturn.__call__\u001b[0;34m(self, *args, **kwargs)\u001b[0m\n\u001b[1;32m    869\u001b[0m         msg \u001b[38;5;241m=\u001b[39m \u001b[38;5;124m\"\u001b[39m\u001b[38;5;124mArgument \u001b[39m\u001b[38;5;132;01m{arg}\u001b[39;00m\u001b[38;5;124m of type \u001b[39m\u001b[38;5;132;01m{valt}\u001b[39;00m\u001b[38;5;124m to \u001b[39m\u001b[38;5;132;01m{f}\u001b[39;00m\u001b[38;5;124m \u001b[39m\u001b[38;5;124m\"\u001b[39m \u001b[38;5;124m\"\u001b[39m\u001b[38;5;124mdoes not match annotation type \u001b[39m\u001b[38;5;132;01m{t}\u001b[39;00m\u001b[38;5;124m\"\u001b[39m\n\u001b[1;32m    870\u001b[0m         \u001b[38;5;28;01mraise\u001b[39;00m EnsureError(msg\u001b[38;5;241m.\u001b[39mformat(arg\u001b[38;5;241m=\u001b[39marg, f\u001b[38;5;241m=\u001b[39m\u001b[38;5;28mself\u001b[39m\u001b[38;5;241m.\u001b[39mf, t\u001b[38;5;241m=\u001b[39mtempl, valt\u001b[38;5;241m=\u001b[39m\u001b[38;5;28mtype\u001b[39m(value)))\n\u001b[0;32m--> 872\u001b[0m return_val \u001b[38;5;241m=\u001b[39m \u001b[38;5;28;43mself\u001b[39;49m\u001b[38;5;241;43m.\u001b[39;49m\u001b[43mf\u001b[49m\u001b[43m(\u001b[49m\u001b[38;5;241;43m*\u001b[39;49m\u001b[43margs\u001b[49m\u001b[43m,\u001b[49m\u001b[43m \u001b[49m\u001b[38;5;241;43m*\u001b[39;49m\u001b[38;5;241;43m*\u001b[39;49m\u001b[43mkwargs\u001b[49m\u001b[43m)\u001b[49m\n\u001b[1;32m    873\u001b[0m \u001b[38;5;28;01mif\u001b[39;00m \u001b[38;5;129;01mnot\u001b[39;00m \u001b[38;5;28misinstance\u001b[39m(return_val, \u001b[38;5;28mself\u001b[39m\u001b[38;5;241m.\u001b[39mreturn_templ):\n\u001b[1;32m    874\u001b[0m     msg \u001b[38;5;241m=\u001b[39m \u001b[38;5;124m\"\u001b[39m\u001b[38;5;124mReturn value of \u001b[39m\u001b[38;5;132;01m{f}\u001b[39;00m\u001b[38;5;124m of type \u001b[39m\u001b[38;5;132;01m{valt}\u001b[39;00m\u001b[38;5;124m \u001b[39m\u001b[38;5;124m\"\u001b[39m \u001b[38;5;124m\"\u001b[39m\u001b[38;5;124mdoes not match annotation type \u001b[39m\u001b[38;5;132;01m{t}\u001b[39;00m\u001b[38;5;124m\"\u001b[39m\n",
      "File \u001b[0;32m/home/ubuntu/BigDataProject/src/utils/common.py:169\u001b[0m, in \u001b[0;36mload_tensor\u001b[0;34m(path, filename, logging)\u001b[0m\n\u001b[1;32m    158\u001b[0m \u001b[38;5;250m\u001b[39m\u001b[38;5;124;03m\"\"\"\u001b[39;00m\n\u001b[1;32m    159\u001b[0m \u001b[38;5;124;03mSave json data\u001b[39;00m\n\u001b[1;32m    160\u001b[0m \n\u001b[0;32m   (...)\u001b[0m\n\u001b[1;32m    166\u001b[0m \u001b[38;5;124;03m    data (torch.Tensor): Loaded tensor\u001b[39;00m\n\u001b[1;32m    167\u001b[0m \u001b[38;5;124;03m\"\"\"\u001b[39;00m\n\u001b[1;32m    168\u001b[0m \u001b[38;5;28;01mtry\u001b[39;00m:\n\u001b[0;32m--> 169\u001b[0m     data \u001b[38;5;241m=\u001b[39m \u001b[43mtorch\u001b[49m\u001b[38;5;241;43m.\u001b[39;49m\u001b[43mload\u001b[49m\u001b[43m(\u001b[49m\u001b[43mos\u001b[49m\u001b[38;5;241;43m.\u001b[39;49m\u001b[43mpath\u001b[49m\u001b[38;5;241;43m.\u001b[39;49m\u001b[43mjoin\u001b[49m\u001b[43m(\u001b[49m\u001b[43mpath\u001b[49m\u001b[43m,\u001b[49m\u001b[43m \u001b[49m\u001b[43mfilename\u001b[49m\u001b[43m)\u001b[49m\u001b[43m)\u001b[49m\n\u001b[1;32m    170\u001b[0m     \u001b[38;5;28;01mif\u001b[39;00m logging:\n\u001b[1;32m    171\u001b[0m         logger\u001b[38;5;241m.\u001b[39minfo(\u001b[38;5;124mf\u001b[39m\u001b[38;5;124m\"\u001b[39m\u001b[38;5;124mtensor file has been loaded from: \u001b[39m\u001b[38;5;132;01m{\u001b[39;00mpath\u001b[38;5;132;01m}\u001b[39;00m\u001b[38;5;124m\"\u001b[39m)\n",
      "File \u001b[0;32m/home/ubuntu/BigDataProject/lib/python3.10/site-packages/torch/serialization.py:986\u001b[0m, in \u001b[0;36mload\u001b[0;34m(f, map_location, pickle_module, weights_only, mmap, **pickle_load_args)\u001b[0m\n\u001b[1;32m    983\u001b[0m \u001b[38;5;28;01mif\u001b[39;00m \u001b[38;5;124m'\u001b[39m\u001b[38;5;124mencoding\u001b[39m\u001b[38;5;124m'\u001b[39m \u001b[38;5;129;01mnot\u001b[39;00m \u001b[38;5;129;01min\u001b[39;00m pickle_load_args\u001b[38;5;241m.\u001b[39mkeys():\n\u001b[1;32m    984\u001b[0m     pickle_load_args[\u001b[38;5;124m'\u001b[39m\u001b[38;5;124mencoding\u001b[39m\u001b[38;5;124m'\u001b[39m] \u001b[38;5;241m=\u001b[39m \u001b[38;5;124m'\u001b[39m\u001b[38;5;124mutf-8\u001b[39m\u001b[38;5;124m'\u001b[39m\n\u001b[0;32m--> 986\u001b[0m \u001b[38;5;28;01mwith\u001b[39;00m \u001b[43m_open_file_like\u001b[49m\u001b[43m(\u001b[49m\u001b[43mf\u001b[49m\u001b[43m,\u001b[49m\u001b[43m \u001b[49m\u001b[38;5;124;43m'\u001b[39;49m\u001b[38;5;124;43mrb\u001b[39;49m\u001b[38;5;124;43m'\u001b[39;49m\u001b[43m)\u001b[49m \u001b[38;5;28;01mas\u001b[39;00m opened_file:\n\u001b[1;32m    987\u001b[0m     \u001b[38;5;28;01mif\u001b[39;00m _is_zipfile(opened_file):\n\u001b[1;32m    988\u001b[0m         \u001b[38;5;66;03m# The zipfile reader is going to advance the current file position.\u001b[39;00m\n\u001b[1;32m    989\u001b[0m         \u001b[38;5;66;03m# If we want to actually tail call to torch.jit.load, we need to\u001b[39;00m\n\u001b[1;32m    990\u001b[0m         \u001b[38;5;66;03m# reset back to the original position.\u001b[39;00m\n\u001b[1;32m    991\u001b[0m         orig_position \u001b[38;5;241m=\u001b[39m opened_file\u001b[38;5;241m.\u001b[39mtell()\n",
      "File \u001b[0;32m/home/ubuntu/BigDataProject/lib/python3.10/site-packages/torch/serialization.py:435\u001b[0m, in \u001b[0;36m_open_file_like\u001b[0;34m(name_or_buffer, mode)\u001b[0m\n\u001b[1;32m    433\u001b[0m \u001b[38;5;28;01mdef\u001b[39;00m \u001b[38;5;21m_open_file_like\u001b[39m(name_or_buffer, mode):\n\u001b[1;32m    434\u001b[0m     \u001b[38;5;28;01mif\u001b[39;00m _is_path(name_or_buffer):\n\u001b[0;32m--> 435\u001b[0m         \u001b[38;5;28;01mreturn\u001b[39;00m \u001b[43m_open_file\u001b[49m\u001b[43m(\u001b[49m\u001b[43mname_or_buffer\u001b[49m\u001b[43m,\u001b[49m\u001b[43m \u001b[49m\u001b[43mmode\u001b[49m\u001b[43m)\u001b[49m\n\u001b[1;32m    436\u001b[0m     \u001b[38;5;28;01melse\u001b[39;00m:\n\u001b[1;32m    437\u001b[0m         \u001b[38;5;28;01mif\u001b[39;00m \u001b[38;5;124m'\u001b[39m\u001b[38;5;124mw\u001b[39m\u001b[38;5;124m'\u001b[39m \u001b[38;5;129;01min\u001b[39;00m mode:\n",
      "File \u001b[0;32m/home/ubuntu/BigDataProject/lib/python3.10/site-packages/torch/serialization.py:416\u001b[0m, in \u001b[0;36m_open_file.__init__\u001b[0;34m(self, name, mode)\u001b[0m\n\u001b[1;32m    415\u001b[0m \u001b[38;5;28;01mdef\u001b[39;00m \u001b[38;5;21m__init__\u001b[39m(\u001b[38;5;28mself\u001b[39m, name, mode):\n\u001b[0;32m--> 416\u001b[0m     \u001b[38;5;28msuper\u001b[39m()\u001b[38;5;241m.\u001b[39m\u001b[38;5;21m__init__\u001b[39m(\u001b[38;5;28;43mopen\u001b[39;49m\u001b[43m(\u001b[49m\u001b[43mname\u001b[49m\u001b[43m,\u001b[49m\u001b[43m \u001b[49m\u001b[43mmode\u001b[49m\u001b[43m)\u001b[49m)\n",
      "\u001b[0;31mFileNotFoundError\u001b[0m: [Errno 2] No such file or directory: 'data/encoded/embeddings_86.t'"
     ]
    }
   ],
   "source": [
    "%%time\n",
    "component = HeadModelFoldTraining(head_model_fold_training_config, config_manager.config.path, \n",
    "                                  'head_model_MHSA_STCNN_GRU', use_default_training_configs=True)\n",
    "component.run_stage(fold=3, n_epochs=3)"
   ]
  },
  {
   "cell_type": "code",
   "execution_count": 4,
   "id": "1c096884-de3e-40ec-b011-400aec5a133e",
   "metadata": {},
   "outputs": [
    {
     "name": "stdout",
     "output_type": "stream",
     "text": [
      "[2024-01-05 00:32:19,340: 47: logger: INFO: common:  yaml file: src/params/head_model_MHSA_STCNN_GRU.yaml loaded successfully]\n",
      "[2024-01-05 00:32:19,342: 457: logger: INFO: head_model_fold_training:  === STARTING TRAINING STAGE for fold 3 and model MHSA_STCNN_GRU ===]\n",
      "[2024-01-05 00:32:19,443: 171: logger: INFO: common:  tensor file has been loaded from: data/target]\n",
      "[2024-01-05 00:32:19,444: 461: logger: INFO: head_model_fold_training:  Part1. Target data has been loaded]\n",
      "[2024-01-05 00:32:19,453: 47: logger: INFO: common:  yaml file: src/params/head_model_MHSA_STCNN_GRU.yaml loaded successfully]\n",
      "[2024-01-05 00:32:19,540: 68: logger: INFO: trio:  WARNING: One of RecModels has no value specified for hidden_size. Using input_size value]\n",
      "[2024-01-05 00:32:19,572: 68: logger: INFO: trio:  WARNING: One of RecModels has no value specified for hidden_size. Using input_size value]\n",
      "[2024-01-05 00:32:20,747: 483: logger: INFO: head_model_fold_training:  Part2. Head model has been loaded]\n",
      "[2024-01-05 00:32:20,748: 484: logger: INFO: head_model_fold_training:  Part3. Training part has been skipped]\n"
     ]
    },
    {
     "data": {
      "application/vnd.jupyter.widget-view+json": {
       "model_id": "004384d8a6d24bfaad07c652f6aabea9",
       "version_major": 2,
       "version_minor": 0
      },
      "text/plain": [
       "val_embeddings:   0%|          | 0/21 [00:00<?, ?it/s]"
      ]
     },
     "metadata": {},
     "output_type": "display_data"
    },
    {
     "name": "stdout",
     "output_type": "stream",
     "text": [
      "[2024-01-05 00:35:22,873: 488: logger: INFO: head_model_fold_training:  Part4. Logits have been calculated]\n",
      "[2024-01-05 00:35:22,884: 146: logger: INFO: common:  tensor file saved at: data/logits]\n",
      "{'accuracy': 0.8848572040022287, 'balanced_accuracy': 0.8545794728862275, 'precision_pos': 0.8983196413258663, 'precision_neg': 0.8515065385510611, 'recall_pos': 0.9374477822382966, 'recall_neg': 0.7717111635341585, 'f1_pos': 0.9174667168535271, 'f1_neg': 0.809647530060862}\n",
      "[2024-01-05 00:35:24,931: 92: logger: INFO: common:  json file saved at: logs/MHSA_STCNN_GRU_3.json]\n",
      "[2024-01-05 00:35:24,937: 495: logger: INFO: head_model_fold_training:  Part5. Evaluation has been completed]\n",
      "[2024-01-05 00:35:24,938: 497: logger: INFO: head_model_fold_training:  === FINISHED TRAINING STAGE for fold 3 and model MHSA_STCNN_GRU ===]\n",
      "CPU times: user 2min 8s, sys: 42.1 s, total: 2min 50s\n",
      "Wall time: 3min 5s\n"
     ]
    }
   ],
   "source": [
    "%%time\n",
    "component = HeadModelFoldTraining(head_model_fold_training_config, config_manager.config.path, \n",
    "                                  'head_model_MHSA_STCNN_GRU', use_default_training_configs=True)\n",
    "component.run_stage(fold=3, n_epochs=3, load_model=True)"
   ]
  },
  {
   "cell_type": "code",
   "execution_count": null,
   "id": "d7cc4214-fd72-49f0-9ea8-8a687dc1d166",
   "metadata": {},
   "outputs": [],
   "source": []
  }
 ],
 "metadata": {
  "kernelspec": {
   "display_name": "Python 3 (ipykernel)",
   "language": "python",
   "name": "python3"
  },
  "language_info": {
   "codemirror_mode": {
    "name": "ipython",
    "version": 3
   },
   "file_extension": ".py",
   "mimetype": "text/x-python",
   "name": "python",
   "nbconvert_exporter": "python",
   "pygments_lexer": "ipython3",
   "version": "3.10.12"
  }
 },
 "nbformat": 4,
 "nbformat_minor": 5
}
