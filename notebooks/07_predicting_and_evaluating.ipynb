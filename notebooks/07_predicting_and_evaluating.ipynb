{
 "cells": [
  {
   "cell_type": "code",
   "execution_count": 1,
   "id": "3826dc91-64f9-4daf-a51e-3ced9374c86c",
   "metadata": {},
   "outputs": [],
   "source": [
    "import os\n",
    "import warnings\n",
    "\n",
    "warnings.filterwarnings(\"ignore\")"
   ]
  },
  {
   "cell_type": "code",
   "execution_count": 2,
   "id": "1f21c6e3-3d0d-46d9-8a05-aa70f3253786",
   "metadata": {},
   "outputs": [
    {
     "data": {
      "text/plain": [
       "'/home/ubuntu/BigDataProject'"
      ]
     },
     "execution_count": 2,
     "metadata": {},
     "output_type": "execute_result"
    }
   ],
   "source": [
    "os.chdir(\"../\")\n",
    "%pwd"
   ]
  },
  {
   "cell_type": "code",
   "execution_count": 3,
   "id": "398f4429-ce0f-49e7-9886-539d9b570e38",
   "metadata": {},
   "outputs": [
    {
     "name": "stdout",
     "output_type": "stream",
     "text": [
      "[2024-01-08 18:07:30,607: 47: logger: INFO: common:  yaml file: src/config/config.yaml loaded successfully]\n",
      "[2024-01-08 18:07:30,609: 47: logger: INFO: common:  yaml file: src/params.yaml loaded successfully]\n",
      "[2024-01-08 18:07:30,610: 47: logger: INFO: common:  yaml file: src/schema.yaml loaded successfully]\n"
     ]
    },
    {
     "data": {
      "text/plain": [
       "PredictingConfig(embedding_file_size=51200, embedding_ids=BoxList([0]), head_models=BoxList(['final_head_model_MHSA_STCNN_BiRNN', 'final_head_model_MHSA_STCNN_BiLSTM', 'final_head_model_MHSA_STCNN_GRU']), second_level_model='LGBMClassifier', metrics_names=BoxList(['accuracy', 'balanced_accuracy', 'precision', 'recall', 'f1']))"
      ]
     },
     "execution_count": 3,
     "metadata": {},
     "output_type": "execute_result"
    }
   ],
   "source": [
    "from src.config.configuration import ConfigurationManager\n",
    "from src.components.predicting import Predictor\n",
    "\n",
    "config_manager = ConfigurationManager()\n",
    "predicting_config = config_manager.get_predicting_config()\n",
    "\n",
    "predicting_config"
   ]
  },
  {
   "cell_type": "code",
   "execution_count": 4,
   "id": "a1342c2f-dd66-4df0-ab99-eee36b6129bb",
   "metadata": {},
   "outputs": [
    {
     "name": "stdout",
     "output_type": "stream",
     "text": [
      "[2024-01-08 18:07:30,624: 47: logger: INFO: common:  yaml file: src/params/final_head_model_MHSA_STCNN_BiRNN.yaml loaded successfully]\n",
      "[2024-01-08 18:07:30,632: 47: logger: INFO: common:  yaml file: src/params/final_head_model_MHSA_STCNN_BiLSTM.yaml loaded successfully]\n",
      "[2024-01-08 18:07:30,641: 47: logger: INFO: common:  yaml file: src/params/final_head_model_MHSA_STCNN_GRU.yaml loaded successfully]\n",
      "[2024-01-08 18:07:30,642: 311: logger: INFO: predicting:  === STARTING PREDICTION STAGE ===]\n"
     ]
    },
    {
     "data": {
      "application/vnd.jupyter.widget-view+json": {
       "model_id": "b31e19fb07b341ddab764d1a982904e5",
       "version_major": 2,
       "version_minor": 0
      },
      "text/plain": [
       "head_models:   0%|          | 0/3 [00:00<?, ?it/s]"
      ]
     },
     "metadata": {},
     "output_type": "display_data"
    },
    {
     "data": {
      "application/vnd.jupyter.widget-view+json": {
       "model_id": "38d21c7ef7f64de2914a7be464c2d79c",
       "version_major": 2,
       "version_minor": 0
      },
      "text/plain": [
       "embeddings:   0%|          | 0/1 [00:00<?, ?it/s]"
      ]
     },
     "metadata": {},
     "output_type": "display_data"
    },
    {
     "name": "stdout",
     "output_type": "stream",
     "text": [
      "[2024-01-08 18:07:38,006: 249: logger: INFO: predicting:  Logits have been calculated for final_head_model_MHSA_STCNN_BiRNN]\n"
     ]
    },
    {
     "data": {
      "application/vnd.jupyter.widget-view+json": {
       "model_id": "6cd85cdc588944d581b4ba2783e87705",
       "version_major": 2,
       "version_minor": 0
      },
      "text/plain": [
       "embeddings:   0%|          | 0/1 [00:00<?, ?it/s]"
      ]
     },
     "metadata": {},
     "output_type": "display_data"
    },
    {
     "name": "stdout",
     "output_type": "stream",
     "text": [
      "[2024-01-08 18:07:46,512: 249: logger: INFO: predicting:  Logits have been calculated for final_head_model_MHSA_STCNN_BiLSTM]\n",
      "[2024-01-08 18:07:46,549: 68: logger: INFO: trio:  WARNING: One of RecModels has no value specified for hidden_size. Using input_size value]\n",
      "[2024-01-08 18:07:46,572: 68: logger: INFO: trio:  WARNING: One of RecModels has no value specified for hidden_size. Using input_size value]\n"
     ]
    },
    {
     "data": {
      "application/vnd.jupyter.widget-view+json": {
       "model_id": "4f21f11cf5b749c99e6cf9b1dcaa6a0f",
       "version_major": 2,
       "version_minor": 0
      },
      "text/plain": [
       "embeddings:   0%|          | 0/1 [00:00<?, ?it/s]"
      ]
     },
     "metadata": {},
     "output_type": "display_data"
    },
    {
     "name": "stdout",
     "output_type": "stream",
     "text": [
      "[2024-01-08 18:07:53,431: 249: logger: INFO: predicting:  Logits have been calculated for final_head_model_MHSA_STCNN_GRU]\n",
      "[2024-01-08 18:07:53,434: 315: logger: INFO: predicting:  Part1. First level predictions have been calculated]\n",
      "[LightGBM] [Warning] min_data_in_leaf is set=356, min_child_samples=20 will be ignored. Current value: min_data_in_leaf=356\n",
      "[LightGBM] [Warning] bagging_fraction is set=0.7850825614230649, subsample=1.0 will be ignored. Current value: bagging_fraction=0.7850825614230649\n",
      "[LightGBM] [Warning] bagging_freq is set=14, subsample_freq=0 will be ignored. Current value: bagging_freq=14\n",
      "[2024-01-08 18:07:53,584: 319: logger: INFO: predicting:  Part2. Second level prediction has been calculated]\n",
      "[2024-01-08 18:07:53,594: 171: logger: INFO: common:  tensor file has been loaded from: data/target]\n",
      "[2024-01-08 18:07:53,627: 324: logger: INFO: predicting:  Part3. Target data has been loaded]\n",
      "[2024-01-08 18:07:53,666: 330: logger: INFO: predicting:  Part4. Predictions have been saved]\n",
      "[2024-01-08 18:07:53,968: 92: logger: INFO: common:  json file saved at: logs/metrics_LGBMClassifier.json]\n",
      "[2024-01-08 18:07:53,969: 335: logger: INFO: predicting:  Part5. Predictions have been evaluated]\n",
      "[2024-01-08 18:07:53,969: 339: logger: INFO: predicting:  === FINISHED PREDICTION STAGE ===]\n",
      "CPU times: user 20.3 s, sys: 2.79 s, total: 23.1 s\n",
      "Wall time: 23.4 s\n"
     ]
    }
   ],
   "source": [
    "%%time\n",
    "component = Predictor(predicting_config, config_manager.config.path)\n",
    "component.run_stage(is_new_data=False, evaluate=True)"
   ]
  }
 ],
 "metadata": {
  "kernelspec": {
   "display_name": "Python 3 (ipykernel)",
   "language": "python",
   "name": "python3"
  },
  "language_info": {
   "codemirror_mode": {
    "name": "ipython",
    "version": 3
   },
   "file_extension": ".py",
   "mimetype": "text/x-python",
   "name": "python",
   "nbconvert_exporter": "python",
   "pygments_lexer": "ipython3",
   "version": "3.10.12"
  }
 },
 "nbformat": 4,
 "nbformat_minor": 5
}
