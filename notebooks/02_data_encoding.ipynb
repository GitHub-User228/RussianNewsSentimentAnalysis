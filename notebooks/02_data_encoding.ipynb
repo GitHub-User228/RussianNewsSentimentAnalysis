{
 "cells": [
  {
   "cell_type": "code",
   "execution_count": 1,
   "id": "1e4e8172-b2e2-42e8-bdab-386078c5abb4",
   "metadata": {},
   "outputs": [],
   "source": [
    "import os\n",
    "import warnings\n",
    "\n",
    "warnings.filterwarnings(\"ignore\")"
   ]
  },
  {
   "cell_type": "code",
   "execution_count": 2,
   "id": "caa6a3fc-d8cb-40d5-ba91-6f58b7b56273",
   "metadata": {},
   "outputs": [
    {
     "data": {
      "text/plain": [
       "'/home/ubuntu/BigDataProject'"
      ]
     },
     "execution_count": 2,
     "metadata": {},
     "output_type": "execute_result"
    }
   ],
   "source": [
    "os.chdir(\"../\")\n",
    "%pwd"
   ]
  },
  {
   "cell_type": "code",
   "execution_count": 3,
   "id": "5b00a707-aa11-429b-a35f-0bce656e1716",
   "metadata": {},
   "outputs": [
    {
     "name": "stdout",
     "output_type": "stream",
     "text": [
      "[2023-12-03 00:25:46,145: 47: logger: INFO: common:  yaml file: src/config/config.yaml loaded successfully]\n",
      "[2023-12-03 00:25:46,150: 47: logger: INFO: common:  yaml file: src/params.yaml loaded successfully]\n",
      "[2023-12-03 00:25:46,151: 47: logger: INFO: common:  yaml file: src/schema.yaml loaded successfully]\n"
     ]
    },
    {
     "data": {
      "text/plain": [
       "DataEncodingConfig(n_labels=2, batch_size=512, n_batches_per_save=100, model_checkpoint='ai-forever/rugpt3medium_based_on_gpt2', start_batch=7900, end_batch=None)"
      ]
     },
     "execution_count": 3,
     "metadata": {},
     "output_type": "execute_result"
    }
   ],
   "source": [
    "from src.config.configuration import ConfigurationManager\n",
    "from src.components.data_encoding import DataEncoding\n",
    "\n",
    "config_manager = ConfigurationManager()\n",
    "data_encoding_config = config_manager.get_data_encoding_config()\n",
    "data_encoding = DataEncoding(data_encoding_config, config_manager.config.path)\n",
    "\n",
    "data_encoding_config"
   ]
  },
  {
   "cell_type": "code",
   "execution_count": 4,
   "id": "21453b95-e192-4967-92f2-4d413c633d98",
   "metadata": {},
   "outputs": [
    {
     "name": "stdout",
     "output_type": "stream",
     "text": [
      "[2023-12-03 00:25:46,158: 168: logger: INFO: data_encoding:  === STARTING ENCODING STAGE ===]\n",
      "[2023-12-03 00:25:46,489: 171: logger: INFO: common:  tensor file has been loaded from: data/tokenized]\n",
      "[2023-12-03 00:25:46,824: 171: logger: INFO: common:  tensor file has been loaded from: data/tokenized]\n",
      "[2023-12-03 00:25:46,825: 172: logger: INFO: data_encoding:  Part1. Tokenized and target data has been loaded]\n",
      "[2023-12-03 00:25:46,897: 176: logger: INFO: data_encoding:  Part2. Data has been converted to Dataset form]\n",
      "[2023-12-03 00:25:50,686: 85: logger: INFO: data_encoding:  1. Model has been loaded]\n"
     ]
    },
    {
     "data": {
      "application/vnd.jupyter.widget-view+json": {
       "model_id": "0879addee6d84011832ed648edd9503d",
       "version_major": 2,
       "version_minor": 0
      },
      "text/plain": [
       "batch:   0%|          | 0/8572 [00:00<?, ?it/s]"
      ]
     },
     "metadata": {},
     "output_type": "display_data"
    },
    {
     "name": "stdout",
     "output_type": "stream",
     "text": [
      "[2023-12-03 00:25:50,756: 91: logger: INFO: data_encoding:  2. Batch generator and iterator have been initialized]\n",
      "[2023-12-03 00:27:54,511: 146: logger: INFO: common:  tensor file saved at: data/encoded]\n",
      "[2023-12-03 00:29:35,565: 146: logger: INFO: common:  tensor file saved at: data/encoded]\n",
      "[2023-12-03 00:31:15,844: 146: logger: INFO: common:  tensor file saved at: data/encoded]\n",
      "[2023-12-03 00:32:55,881: 146: logger: INFO: common:  tensor file saved at: data/encoded]\n",
      "[2023-12-03 00:34:35,474: 146: logger: INFO: common:  tensor file saved at: data/encoded]\n",
      "[2023-12-03 00:36:14,935: 146: logger: INFO: common:  tensor file saved at: data/encoded]\n",
      "[2023-12-03 00:37:23,119: 146: logger: INFO: common:  tensor file saved at: data/encoded]\n",
      "[2023-12-03 00:37:23,143: 146: logger: INFO: data_encoding:  3. Data has been encoded and saved]\n",
      "[2023-12-03 00:37:23,172: 157: logger: INFO: data_encoding:  4. Cache has been cleared]\n",
      "[2023-12-03 00:37:23,173: 180: logger: INFO: data_encoding:  Part3. Data has been encoded and saved]\n",
      "[2023-12-03 00:37:23,173: 182: logger: INFO: data_encoding:  === FINISHED ENCODING STAGE ===]\n"
     ]
    }
   ],
   "source": [
    "data_encoding.run_stage(is_new_data=False)"
   ]
  },
  {
   "cell_type": "code",
   "execution_count": null,
   "id": "0a299d91-81bf-4012-abde-7ca3ab939d47",
   "metadata": {},
   "outputs": [],
   "source": []
  }
 ],
 "metadata": {
  "kernelspec": {
   "display_name": "Python 3 (ipykernel)",
   "language": "python",
   "name": "python3"
  },
  "language_info": {
   "codemirror_mode": {
    "name": "ipython",
    "version": 3
   },
   "file_extension": ".py",
   "mimetype": "text/x-python",
   "name": "python",
   "nbconvert_exporter": "python",
   "pygments_lexer": "ipython3",
   "version": "3.10.12"
  }
 },
 "nbformat": 4,
 "nbformat_minor": 5
}
